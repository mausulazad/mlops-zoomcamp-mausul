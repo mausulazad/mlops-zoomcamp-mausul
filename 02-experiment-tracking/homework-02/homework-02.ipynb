{
 "cells": [
  {
   "cell_type": "code",
   "execution_count": 10,
   "id": "173a6bbe-5359-453f-a8a0-68fcf00e2f4a",
   "metadata": {},
   "outputs": [],
   "source": [
    "import os"
   ]
  },
  {
   "cell_type": "code",
   "execution_count": 2,
   "id": "198ceee3-7f76-46fd-a9c8-180935dd486d",
   "metadata": {},
   "outputs": [],
   "source": [
    "import mlflow"
   ]
  },
  {
   "cell_type": "code",
   "execution_count": 76,
   "id": "426a2a66-55f2-423c-a3bb-f72e4796c595",
   "metadata": {},
   "outputs": [
    {
     "name": "stdout",
     "output_type": "stream",
     "text": [
      "Q1 --> Mlflow Version: 2.12.2\n"
     ]
    }
   ],
   "source": [
    "# Q1\n",
    "# from commandline: mlflow --version\n",
    "\n",
    "print(f\"Q1 --> Mlflow Version: {mlflow.__version__}\")"
   ]
  },
  {
   "cell_type": "code",
   "execution_count": 42,
   "id": "d72bb537-ca40-4795-ad70-be635fc532f7",
   "metadata": {},
   "outputs": [
    {
     "name": "stdout",
     "output_type": "stream",
     "text": [
      "Q2 --> No. of files in output folder: 4\n"
     ]
    }
   ],
   "source": [
    "# Q2\n",
    "# Run this cell after running the command 'python preprocess_data.py --raw_data_path data --dest_path ./output'\n",
    "no_output_files = sum(len(files) for _, _, files in os.walk('./output'))\n",
    "print(f\"Q2 --> No. of files in output folder: {no_output_files}\")"
   ]
  },
  {
   "cell_type": "code",
   "execution_count": 19,
   "id": "100b2afd-d12c-4beb-949e-0a38157e2220",
   "metadata": {},
   "outputs": [
    {
     "name": "stderr",
     "output_type": "stream",
     "text": [
      "2024/05/24 11:50:22 INFO mlflow.tracking.fluent: Experiment with name 'nyc-taxi-experiment' does not exist. Creating a new experiment.\n"
     ]
    },
    {
     "data": {
      "text/plain": [
       "<Experiment: artifact_location='/workspaces/mlops-zoomcamp-mausul/02-experiment-tracking/homework-02/mlruns/1', creation_time=1716551422925, experiment_id='1', last_update_time=1716551422925, lifecycle_stage='active', name='nyc-taxi-experiment', tags={}>"
      ]
     },
     "execution_count": 19,
     "metadata": {},
     "output_type": "execute_result"
    }
   ],
   "source": [
    "mlflow.set_tracking_uri(\"sqlite:///mlflow.db\")\n",
    "mlflow.set_experiment(\"nyc-taxi-experiment\")"
   ]
  },
  {
   "cell_type": "code",
   "execution_count": 20,
   "id": "92ee2c76-a776-4951-a172-03b057fd72d1",
   "metadata": {},
   "outputs": [],
   "source": [
    "from mlflow.tracking import MlflowClient\n",
    "\n",
    "MLFLOW_TRACKING_URI = \"sqlite:///mlflow.db\"\n",
    "\n",
    "client = MlflowClient(tracking_uri=MLFLOW_TRACKING_URI)"
   ]
  },
  {
   "cell_type": "code",
   "execution_count": 25,
   "id": "29da5858-a551-425c-b4f2-45d5f84c095e",
   "metadata": {},
   "outputs": [],
   "source": [
    "from mlflow.entities import ViewType\n",
    "\n",
    "runs = client.search_runs(\n",
    "    experiment_ids='1',\n",
    "    filter_string='',\n",
    "    run_view_type=ViewType.ACTIVE_ONLY,\n",
    "    max_results=5,\n",
    "    order_by=['metrics.rmse ASC']\n",
    ")"
   ]
  },
  {
   "cell_type": "code",
   "execution_count": 31,
   "id": "733a2024-f5b0-49c6-b663-44c1908356c9",
   "metadata": {},
   "outputs": [],
   "source": [
    "run_ids = []\n",
    "for run in runs:\n",
    "    run_ids.append(run.info.run_id)"
   ]
  },
  {
   "cell_type": "code",
   "execution_count": 32,
   "id": "4abdb7b7-de63-43a8-874b-5a616e6d9435",
   "metadata": {},
   "outputs": [
    {
     "data": {
      "text/plain": [
       "['776a2cb872a54ef69aab502ced63904a']"
      ]
     },
     "execution_count": 32,
     "metadata": {},
     "output_type": "execute_result"
    }
   ],
   "source": [
    "run_ids"
   ]
  },
  {
   "cell_type": "code",
   "execution_count": 33,
   "id": "032579ea-7566-4864-a1ed-0a28ff0aabfb",
   "metadata": {},
   "outputs": [],
   "source": [
    "run_id = run_ids[0]"
   ]
  },
  {
   "cell_type": "code",
   "execution_count": 48,
   "id": "38e9ec96-5bde-4c85-8dac-8318829450dc",
   "metadata": {},
   "outputs": [
    {
     "name": "stdout",
     "output_type": "stream",
     "text": [
      "1\n"
     ]
    }
   ],
   "source": [
    "print(len(runs))"
   ]
  },
  {
   "cell_type": "code",
   "execution_count": 43,
   "id": "17bed077-106c-4cdf-8450-a1d28ef0a6c5",
   "metadata": {},
   "outputs": [
    {
     "name": "stdout",
     "output_type": "stream",
     "text": [
      "Q3 --> min_samples_split: 2\n"
     ]
    }
   ],
   "source": [
    "# Q3\n",
    "min_samples_split = runs[0].data.params['min_samples_split']\n",
    "print(f\"Q3 --> min_samples_split: {min_samples_split}\")"
   ]
  },
  {
   "cell_type": "code",
   "execution_count": 74,
   "id": "5fd3b12e-2cb2-4a01-876f-826dda38c037",
   "metadata": {},
   "outputs": [
    {
     "name": "stdout",
     "output_type": "stream",
     "text": [
      "Q4 --> Additional Argument for Server Configuration: default-artifact-root\n"
     ]
    }
   ],
   "source": [
    "print(\"Q4 --> Additional Argument for Server Configuration: default-artifact-root\")"
   ]
  },
  {
   "cell_type": "code",
   "execution_count": 47,
   "id": "e8ac65a4-6967-4c0d-a9f6-6602620b9812",
   "metadata": {},
   "outputs": [
    {
     "name": "stdout",
     "output_type": "stream",
     "text": [
      "Q5 --> Best Validation RMSE: 5.335\n"
     ]
    }
   ],
   "source": [
    "# Q5\n",
    "mlflow.set_tracking_uri(\"http://127.0.0.1:5000\")\n",
    "mlflow.set_experiment(\"random-forest-hyperopt\")\n",
    "\n",
    "client = MlflowClient(tracking_uri=\"http://127.0.0.1:5000\")\n",
    "\n",
    "runs = client.search_runs(\n",
    "    experiment_ids='2',\n",
    "    filter_string='',\n",
    "    run_view_type=ViewType.ACTIVE_ONLY,\n",
    "    max_results=1,\n",
    "    order_by=['metrics.rmse ASC']\n",
    ")\n",
    "\n",
    "print(f\"Q5 --> Best Validation RMSE: {runs[0].data.metrics['rmse']:.3f}\")"
   ]
  },
  {
   "cell_type": "code",
   "execution_count": 71,
   "id": "f17842e4-be0b-43d5-9576-e1f8c91e8f16",
   "metadata": {},
   "outputs": [],
   "source": [
    "# Q6\n",
    "mlflow.set_tracking_uri(\"http://127.0.0.1:5000\")\n",
    "mlflow.set_experiment(\"random-forest-best-models\")\n",
    "\n",
    "client = MlflowClient(tracking_uri=\"http://127.0.0.1:5000\")"
   ]
  },
  {
   "cell_type": "code",
   "execution_count": 77,
   "id": "b652bd09-e002-499b-b6f9-31a660dbf7bc",
   "metadata": {},
   "outputs": [
    {
     "name": "stdout",
     "output_type": "stream",
     "text": [
      "1\n"
     ]
    }
   ],
   "source": [
    "# Q6\n",
    "registered_models = client.search_registered_models()\n",
    "print(len(registered_models))"
   ]
  },
  {
   "cell_type": "code",
   "execution_count": 78,
   "id": "1227c7c2-a20f-46c1-8f50-f6a1d3e405cf",
   "metadata": {},
   "outputs": [
    {
     "name": "stdout",
     "output_type": "stream",
     "text": [
      "Q6 --> Best Test RMSE: 5.5941605655803635\n"
     ]
    }
   ],
   "source": [
    "# Q6\n",
    "run_id = registered_models[0].latest_versions[0].run_id\n",
    "run = mlflow.get_run(run_id)\n",
    "test_rmse = run.data.metrics['test_rmse']\n",
    "print(f\"Q6 --> Best Test RMSE: {test_rmse}\")"
   ]
  }
 ],
 "metadata": {
  "kernelspec": {
   "display_name": "Python 3 (ipykernel)",
   "language": "python",
   "name": "python3"
  },
  "language_info": {
   "codemirror_mode": {
    "name": "ipython",
    "version": 3
   },
   "file_extension": ".py",
   "mimetype": "text/x-python",
   "name": "python",
   "nbconvert_exporter": "python",
   "pygments_lexer": "ipython3",
   "version": "3.9.19"
  }
 },
 "nbformat": 4,
 "nbformat_minor": 5
}
