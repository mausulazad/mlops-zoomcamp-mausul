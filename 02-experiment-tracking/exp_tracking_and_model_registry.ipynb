{
 "cells": [
  {
   "cell_type": "code",
   "execution_count": 1,
   "id": "4cf40367-cb96-4332-90ed-b3464134f41d",
   "metadata": {},
   "outputs": [],
   "source": [
    "from mlflow.tracking import MlflowClient\n",
    "\n",
    "MLFLOW_TRACKING_URI = \"sqlite:///mlflow.db\"\n",
    "\n",
    "client = MlflowClient(tracking_uri=MLFLOW_TRACKING_URI)"
   ]
  },
  {
   "cell_type": "code",
   "execution_count": 6,
   "id": "72da5d5c-819f-4fad-8cef-c741ec488bb7",
   "metadata": {},
   "outputs": [
    {
     "data": {
      "text/plain": [
       "[<Experiment: artifact_location='/workspaces/mlops-zoomcamp-mausul/02-experiment-tracking/mlruns/1', creation_time=1716274678962, experiment_id='1', last_update_time=1716274678962, lifecycle_stage='active', name='nyc-taxi-experiment', tags={}>,\n",
       " <Experiment: artifact_location='mlflow-artifacts:/0', creation_time=1716272965747, experiment_id='0', last_update_time=1716272965747, lifecycle_stage='active', name='Default', tags={}>]"
      ]
     },
     "execution_count": 6,
     "metadata": {},
     "output_type": "execute_result"
    }
   ],
   "source": [
    "# deprecated/no longer used: client.list_experiments()\n",
    "client.search_experiments()"
   ]
  },
  {
   "cell_type": "code",
   "execution_count": 7,
   "id": "3912acea-42a1-406d-9c74-0daa60156362",
   "metadata": {},
   "outputs": [
    {
     "data": {
      "text/plain": [
       "'2'"
      ]
     },
     "execution_count": 7,
     "metadata": {},
     "output_type": "execute_result"
    }
   ],
   "source": [
    "client.create_experiment(name='cool-experiment')"
   ]
  },
  {
   "cell_type": "code",
   "execution_count": 22,
   "id": "d4fab924-9475-4f56-893a-88363ffbece7",
   "metadata": {},
   "outputs": [],
   "source": [
    "from mlflow.entities import ViewType\n",
    "\n",
    "runs = client.search_runs(\n",
    "    experiment_ids='1',\n",
    "    filter_string='metrics.rmse < 6.33',\n",
    "    run_view_type=ViewType.ACTIVE_ONLY,\n",
    "    max_results=5,\n",
    "    order_by=['metrics.rmse ASC']\n",
    ")"
   ]
  },
  {
   "cell_type": "code",
   "execution_count": 23,
   "id": "6fc99de4-e988-4aca-be61-dfec99ffcf0b",
   "metadata": {},
   "outputs": [
    {
     "name": "stdout",
     "output_type": "stream",
     "text": [
      "Run ID: 15b97c40d9b1416e8168aab8c633f166, rmse: 6.3111\n",
      "Run ID: d98e2f264771442b9319eecfc6e4c188, rmse: 6.3111\n",
      "Run ID: 285b0abeb7f54db985750697b3189326, rmse: 6.3111\n",
      "Run ID: 5c75b5479a3f409281d26010655ef050, rmse: 6.3111\n",
      "Run ID: 1f2707e2a639471e9181e192390bc56e, rmse: 6.3205\n"
     ]
    }
   ],
   "source": [
    "for run in runs:\n",
    "    print(f\"Run ID: {run.info.run_id}, rmse: {run.data.metrics['rmse']:.4f}\")"
   ]
  },
  {
   "cell_type": "code",
   "execution_count": 21,
   "id": "3a9204ff-33ae-4aef-a181-04508b0e1a28",
   "metadata": {},
   "outputs": [],
   "source": [
    "import mlflow\n",
    "\n",
    "mlflow.set_tracking_uri(MLFLOW_TRACKING_URI)"
   ]
  },
  {
   "cell_type": "code",
   "execution_count": 26,
   "id": "0166eb6f-d028-4ce3-9ad2-b18a3abd6227",
   "metadata": {},
   "outputs": [
    {
     "name": "stderr",
     "output_type": "stream",
     "text": [
      "Registered model 'nyc-taxi-regressor' already exists. Creating a new version of this model...\n",
      "Created version '4' of model 'nyc-taxi-regressor'.\n"
     ]
    },
    {
     "data": {
      "text/plain": [
       "<ModelVersion: aliases=[], creation_timestamp=1716531536465, current_stage='None', description=None, last_updated_timestamp=1716531536465, name='nyc-taxi-regressor', run_id='1f2707e2a639471e9181e192390bc56e', run_link=None, source='/workspaces/mlops-zoomcamp-mausul/02-experiment-tracking/mlruns/1/1f2707e2a639471e9181e192390bc56e/artifacts/model', status='READY', status_message=None, tags={}, user_id=None, version=4>"
      ]
     },
     "execution_count": 26,
     "metadata": {},
     "output_type": "execute_result"
    }
   ],
   "source": [
    "run_id = \"1f2707e2a639471e9181e192390bc56e\"\n",
    "model_uri = f\"runs:/{run_id}/model\"\n",
    "mlflow.register_model(model_uri=model_uri, name=\"nyc-taxi-regressor\")"
   ]
  },
  {
   "cell_type": "code",
   "execution_count": 29,
   "id": "e06df774-7314-424b-8d14-f5920d795113",
   "metadata": {},
   "outputs": [
    {
     "data": {
      "text/plain": [
       "[<RegisteredModel: aliases={}, creation_timestamp=1716526290025, description='These models are used for estimating trip duration in New York City.\\n', last_updated_timestamp=1716531536465, latest_versions=[<ModelVersion: aliases=[], creation_timestamp=1716531536465, current_stage='None', description=None, last_updated_timestamp=1716531536465, name='nyc-taxi-regressor', run_id='1f2707e2a639471e9181e192390bc56e', run_link=None, source='/workspaces/mlops-zoomcamp-mausul/02-experiment-tracking/mlruns/1/1f2707e2a639471e9181e192390bc56e/artifacts/model', status='READY', status_message=None, tags={}, user_id=None, version=4>], name='nyc-taxi-regressor', tags={}>]"
      ]
     },
     "execution_count": 29,
     "metadata": {},
     "output_type": "execute_result"
    }
   ],
   "source": [
    "client.search_registered_models()"
   ]
  },
  {
   "cell_type": "code",
   "execution_count": 31,
   "id": "a06fb89f-3c9e-4c22-a8b8-89a1a7f1fcda",
   "metadata": {},
   "outputs": [
    {
     "name": "stderr",
     "output_type": "stream",
     "text": [
      "/tmp/ipykernel_5107/3294275207.py:2: FutureWarning: ``mlflow.tracking.client.MlflowClient.get_latest_versions`` is deprecated since 2.9.0. Model registry stages will be removed in a future major release. To learn more about the deprecation of model registry stages, see our migration guide here: https://mlflow.org/docs/2.12.2/model-registry.html#migrating-from-stages\n",
      "  latest_versions = client.get_latest_versions(name=model_name)\n"
     ]
    }
   ],
   "source": [
    "model_name = \"nyc-taxi-regressor\"\n",
    "latest_versions = client.get_latest_versions(name=model_name)"
   ]
  },
  {
   "cell_type": "code",
   "execution_count": 32,
   "id": "a94cd0ca-83ea-4d7b-a53e-eb2cef8705f2",
   "metadata": {},
   "outputs": [
    {
     "data": {
      "text/plain": [
       "[<ModelVersion: aliases=[], creation_timestamp=1716531536465, current_stage='None', description=None, last_updated_timestamp=1716531536465, name='nyc-taxi-regressor', run_id='1f2707e2a639471e9181e192390bc56e', run_link=None, source='/workspaces/mlops-zoomcamp-mausul/02-experiment-tracking/mlruns/1/1f2707e2a639471e9181e192390bc56e/artifacts/model', status='READY', status_message=None, tags={}, user_id=None, version=4>]"
      ]
     },
     "execution_count": 32,
     "metadata": {},
     "output_type": "execute_result"
    }
   ],
   "source": [
    "latest_versions"
   ]
  },
  {
   "cell_type": "code",
   "execution_count": 43,
   "id": "7ab5110f-1271-4d49-98dc-4525b9945382",
   "metadata": {},
   "outputs": [
    {
     "name": "stdout",
     "output_type": "stream",
     "text": [
      "version: 4, state: READY\n"
     ]
    }
   ],
   "source": [
    "for version in latest_versions:\n",
    "    print(f\"version: {version.version}, state: {version.status}\")"
   ]
  },
  {
   "cell_type": "code",
   "execution_count": 37,
   "id": "ec231ced-292e-4e60-aca0-6be3b51f1f80",
   "metadata": {},
   "outputs": [],
   "source": [
    "# client.transition_model_version_stage(name, version, stage) is deprecated\n",
    "client.set_registered_model_alias(name=model_name, alias='not-best-but-ok', version=4)"
   ]
  },
  {
   "cell_type": "code",
   "execution_count": 39,
   "id": "19044219-431c-44b4-94d8-39ddcfa92905",
   "metadata": {},
   "outputs": [
    {
     "data": {
      "text/plain": [
       "<ModelVersion: aliases=['not-best-but-ok'], creation_timestamp=1716531536465, current_stage='None', description='Alias is used instead of staging for model registry', last_updated_timestamp=1716532338103, name='nyc-taxi-regressor', run_id='1f2707e2a639471e9181e192390bc56e', run_link=None, source='/workspaces/mlops-zoomcamp-mausul/02-experiment-tracking/mlruns/1/1f2707e2a639471e9181e192390bc56e/artifacts/model', status='READY', status_message=None, tags={}, user_id=None, version=4>"
      ]
     },
     "execution_count": 39,
     "metadata": {},
     "output_type": "execute_result"
    }
   ],
   "source": [
    "client.update_model_version(name=model_name, version=4, description='Alias is used instead of staging for model registry')"
   ]
  },
  {
   "cell_type": "code",
   "execution_count": 81,
   "id": "846765ff-673e-4d3f-b32d-eab9879a3c4a",
   "metadata": {},
   "outputs": [],
   "source": [
    "from sklearn.metrics import mean_squared_error\n",
    "import pandas as pd\n",
    "\n",
    "def read_dataframe(filename):\n",
    "    df = pd.read_parquet(filename)\n",
    "    df['duration'] = df.lpep_dropoff_datetime - df.lpep_pickup_datetime\n",
    "    df.duration = df.duration.apply(lambda td: td.total_seconds() / 60)\n",
    "\n",
    "    df = df[(df.duration >= 1) & (df.duration <= 60)]\n",
    "\n",
    "    categorical = ['PULocationID', 'DOLocationID']\n",
    "    df[categorical] = df[categorical].astype(str)\n",
    "    \n",
    "    return df\n",
    "\n",
    "def preprocess(df, dv):\n",
    "    df['PU_DO'] = df['PULocationID'] + '_' + df['DOLocationID']\n",
    "    categorical = ['PU_DO']\n",
    "    numerical = ['trip_distance']\n",
    "    train_dicts = df[categorical + numerical].to_dict(orient='records')\n",
    "    return dv.transform(train_dicts)\n",
    "\n",
    "def test_model(name, version, X_test, y_test):\n",
    "    model = mlflow.pyfunc.load_model(f\"models:/{name}/{version}\")\n",
    "    y_pred = model.predict(X_test)\n",
    "    return {\"rmse\": mean_squared_error(y_test, y_pred, squared=False)}"
   ]
  },
  {
   "cell_type": "code",
   "execution_count": 47,
   "id": "37ef18a0-ecd8-4d6a-80f4-359771fc0323",
   "metadata": {},
   "outputs": [
    {
     "name": "stdout",
     "output_type": "stream",
     "text": [
      "data\t\t\t\t       mlflow.db\n",
      "duration-prediction.ipynb\t       mlruns\n",
      "exp_tracking_and_model_registry.ipynb  models\n",
      "mlflow-exploration.ipynb\t       requirements.txt\n"
     ]
    }
   ],
   "source": [
    "!ls"
   ]
  },
  {
   "cell_type": "code",
   "execution_count": 50,
   "id": "1a107672-ccf7-425d-9df3-356fef98f198",
   "metadata": {},
   "outputs": [],
   "source": [
    "df = read_dataframe(\"./data/green_tripdata_2021-03.parquet\")"
   ]
  },
  {
   "cell_type": "code",
   "execution_count": 51,
   "id": "a8d26005-8e9f-4dba-9666-9f3cca5e5dc4",
   "metadata": {},
   "outputs": [
    {
     "data": {
      "text/html": [
       "<div>\n",
       "<style scoped>\n",
       "    .dataframe tbody tr th:only-of-type {\n",
       "        vertical-align: middle;\n",
       "    }\n",
       "\n",
       "    .dataframe tbody tr th {\n",
       "        vertical-align: top;\n",
       "    }\n",
       "\n",
       "    .dataframe thead th {\n",
       "        text-align: right;\n",
       "    }\n",
       "</style>\n",
       "<table border=\"1\" class=\"dataframe\">\n",
       "  <thead>\n",
       "    <tr style=\"text-align: right;\">\n",
       "      <th></th>\n",
       "      <th>VendorID</th>\n",
       "      <th>lpep_pickup_datetime</th>\n",
       "      <th>lpep_dropoff_datetime</th>\n",
       "      <th>store_and_fwd_flag</th>\n",
       "      <th>RatecodeID</th>\n",
       "      <th>PULocationID</th>\n",
       "      <th>DOLocationID</th>\n",
       "      <th>passenger_count</th>\n",
       "      <th>trip_distance</th>\n",
       "      <th>fare_amount</th>\n",
       "      <th>...</th>\n",
       "      <th>mta_tax</th>\n",
       "      <th>tip_amount</th>\n",
       "      <th>tolls_amount</th>\n",
       "      <th>ehail_fee</th>\n",
       "      <th>improvement_surcharge</th>\n",
       "      <th>total_amount</th>\n",
       "      <th>payment_type</th>\n",
       "      <th>trip_type</th>\n",
       "      <th>congestion_surcharge</th>\n",
       "      <th>duration</th>\n",
       "    </tr>\n",
       "  </thead>\n",
       "  <tbody>\n",
       "    <tr>\n",
       "      <th>0</th>\n",
       "      <td>2</td>\n",
       "      <td>2021-03-01 00:05:42</td>\n",
       "      <td>2021-03-01 00:14:03</td>\n",
       "      <td>N</td>\n",
       "      <td>1.0</td>\n",
       "      <td>83</td>\n",
       "      <td>129</td>\n",
       "      <td>1.0</td>\n",
       "      <td>1.56</td>\n",
       "      <td>7.5</td>\n",
       "      <td>...</td>\n",
       "      <td>0.5</td>\n",
       "      <td>0.00</td>\n",
       "      <td>0.0</td>\n",
       "      <td>None</td>\n",
       "      <td>0.3</td>\n",
       "      <td>8.80</td>\n",
       "      <td>1.0</td>\n",
       "      <td>1.0</td>\n",
       "      <td>0.0</td>\n",
       "      <td>8.350000</td>\n",
       "    </tr>\n",
       "    <tr>\n",
       "      <th>1</th>\n",
       "      <td>2</td>\n",
       "      <td>2021-03-01 00:21:03</td>\n",
       "      <td>2021-03-01 00:26:17</td>\n",
       "      <td>N</td>\n",
       "      <td>1.0</td>\n",
       "      <td>243</td>\n",
       "      <td>235</td>\n",
       "      <td>1.0</td>\n",
       "      <td>0.96</td>\n",
       "      <td>6.0</td>\n",
       "      <td>...</td>\n",
       "      <td>0.5</td>\n",
       "      <td>0.00</td>\n",
       "      <td>0.0</td>\n",
       "      <td>None</td>\n",
       "      <td>0.3</td>\n",
       "      <td>7.30</td>\n",
       "      <td>2.0</td>\n",
       "      <td>1.0</td>\n",
       "      <td>0.0</td>\n",
       "      <td>5.233333</td>\n",
       "    </tr>\n",
       "    <tr>\n",
       "      <th>2</th>\n",
       "      <td>2</td>\n",
       "      <td>2021-03-01 00:02:06</td>\n",
       "      <td>2021-03-01 00:22:26</td>\n",
       "      <td>N</td>\n",
       "      <td>1.0</td>\n",
       "      <td>75</td>\n",
       "      <td>242</td>\n",
       "      <td>1.0</td>\n",
       "      <td>9.93</td>\n",
       "      <td>28.0</td>\n",
       "      <td>...</td>\n",
       "      <td>0.5</td>\n",
       "      <td>2.00</td>\n",
       "      <td>0.0</td>\n",
       "      <td>None</td>\n",
       "      <td>0.3</td>\n",
       "      <td>31.30</td>\n",
       "      <td>1.0</td>\n",
       "      <td>1.0</td>\n",
       "      <td>0.0</td>\n",
       "      <td>20.333333</td>\n",
       "    </tr>\n",
       "    <tr>\n",
       "      <th>3</th>\n",
       "      <td>2</td>\n",
       "      <td>2021-03-01 00:24:03</td>\n",
       "      <td>2021-03-01 00:31:43</td>\n",
       "      <td>N</td>\n",
       "      <td>1.0</td>\n",
       "      <td>242</td>\n",
       "      <td>208</td>\n",
       "      <td>1.0</td>\n",
       "      <td>2.57</td>\n",
       "      <td>9.5</td>\n",
       "      <td>...</td>\n",
       "      <td>0.5</td>\n",
       "      <td>0.00</td>\n",
       "      <td>0.0</td>\n",
       "      <td>None</td>\n",
       "      <td>0.3</td>\n",
       "      <td>10.80</td>\n",
       "      <td>2.0</td>\n",
       "      <td>1.0</td>\n",
       "      <td>0.0</td>\n",
       "      <td>7.666667</td>\n",
       "    </tr>\n",
       "    <tr>\n",
       "      <th>4</th>\n",
       "      <td>1</td>\n",
       "      <td>2021-03-01 00:11:10</td>\n",
       "      <td>2021-03-01 00:14:46</td>\n",
       "      <td>N</td>\n",
       "      <td>1.0</td>\n",
       "      <td>41</td>\n",
       "      <td>151</td>\n",
       "      <td>1.0</td>\n",
       "      <td>0.80</td>\n",
       "      <td>5.0</td>\n",
       "      <td>...</td>\n",
       "      <td>0.5</td>\n",
       "      <td>1.85</td>\n",
       "      <td>0.0</td>\n",
       "      <td>None</td>\n",
       "      <td>0.3</td>\n",
       "      <td>8.15</td>\n",
       "      <td>1.0</td>\n",
       "      <td>1.0</td>\n",
       "      <td>0.0</td>\n",
       "      <td>3.600000</td>\n",
       "    </tr>\n",
       "  </tbody>\n",
       "</table>\n",
       "<p>5 rows × 21 columns</p>\n",
       "</div>"
      ],
      "text/plain": [
       "   VendorID lpep_pickup_datetime lpep_dropoff_datetime store_and_fwd_flag  \\\n",
       "0         2  2021-03-01 00:05:42   2021-03-01 00:14:03                  N   \n",
       "1         2  2021-03-01 00:21:03   2021-03-01 00:26:17                  N   \n",
       "2         2  2021-03-01 00:02:06   2021-03-01 00:22:26                  N   \n",
       "3         2  2021-03-01 00:24:03   2021-03-01 00:31:43                  N   \n",
       "4         1  2021-03-01 00:11:10   2021-03-01 00:14:46                  N   \n",
       "\n",
       "   RatecodeID PULocationID DOLocationID  passenger_count  trip_distance  \\\n",
       "0         1.0           83          129              1.0           1.56   \n",
       "1         1.0          243          235              1.0           0.96   \n",
       "2         1.0           75          242              1.0           9.93   \n",
       "3         1.0          242          208              1.0           2.57   \n",
       "4         1.0           41          151              1.0           0.80   \n",
       "\n",
       "   fare_amount  ...  mta_tax  tip_amount  tolls_amount  ehail_fee  \\\n",
       "0          7.5  ...      0.5        0.00           0.0       None   \n",
       "1          6.0  ...      0.5        0.00           0.0       None   \n",
       "2         28.0  ...      0.5        2.00           0.0       None   \n",
       "3          9.5  ...      0.5        0.00           0.0       None   \n",
       "4          5.0  ...      0.5        1.85           0.0       None   \n",
       "\n",
       "  improvement_surcharge  total_amount  payment_type  trip_type  \\\n",
       "0                   0.3          8.80           1.0        1.0   \n",
       "1                   0.3          7.30           2.0        1.0   \n",
       "2                   0.3         31.30           1.0        1.0   \n",
       "3                   0.3         10.80           2.0        1.0   \n",
       "4                   0.3          8.15           1.0        1.0   \n",
       "\n",
       "   congestion_surcharge   duration  \n",
       "0                   0.0   8.350000  \n",
       "1                   0.0   5.233333  \n",
       "2                   0.0  20.333333  \n",
       "3                   0.0   7.666667  \n",
       "4                   0.0   3.600000  \n",
       "\n",
       "[5 rows x 21 columns]"
      ]
     },
     "execution_count": 51,
     "metadata": {},
     "output_type": "execute_result"
    }
   ],
   "source": [
    "df.head()"
   ]
  },
  {
   "cell_type": "code",
   "execution_count": 53,
   "id": "43f912ae-aa31-4d0e-8f42-f26161397665",
   "metadata": {},
   "outputs": [],
   "source": [
    "run_id = \"15b97c40d9b1416e8168aab8c633f166\""
   ]
  },
  {
   "cell_type": "code",
   "execution_count": 54,
   "id": "63abe60d-e4dd-483d-888a-5c8c8b8a5688",
   "metadata": {},
   "outputs": [
    {
     "data": {
      "application/vnd.jupyter.widget-view+json": {
       "model_id": "07b8c775b0884a2aaa1cdb1c406f51de",
       "version_major": 2,
       "version_minor": 0
      },
      "text/plain": [
       "Downloading artifacts:   0%|          | 0/1 [00:00<?, ?it/s]"
      ]
     },
     "metadata": {},
     "output_type": "display_data"
    },
    {
     "data": {
      "text/plain": [
       "'/workspaces/mlops-zoomcamp-mausul/02-experiment-tracking/preprocessor'"
      ]
     },
     "execution_count": 54,
     "metadata": {},
     "output_type": "execute_result"
    }
   ],
   "source": [
    "# download dict vectorizer from mlflow (previously stored)\n",
    "client.download_artifacts(run_id=run_id, path='preprocessor', dst_path='.')"
   ]
  },
  {
   "cell_type": "code",
   "execution_count": 60,
   "id": "c4b7ade4-1a7b-41c9-9915-28c04ce59122",
   "metadata": {},
   "outputs": [
    {
     "name": "stdout",
     "output_type": "stream",
     "text": [
      "data\t\t\t\t       mlruns\n",
      "duration-prediction.ipynb\t       models\n",
      "exp_tracking_and_model_registry.ipynb  preprocessor\n",
      "mlflow-exploration.ipynb\t       requirements.txt\n",
      "mlflow.db\n"
     ]
    }
   ],
   "source": [
    "!ls"
   ]
  },
  {
   "cell_type": "code",
   "execution_count": 61,
   "id": "ef2ce9de-b40a-4912-a592-b93c6fb49215",
   "metadata": {},
   "outputs": [],
   "source": [
    "import pickle\n",
    "\n",
    "with open(\"preprocessor/preprocessor.b\", \"rb\") as f_in:\n",
    "    dv = pickle.load(f_in)"
   ]
  },
  {
   "cell_type": "code",
   "execution_count": 63,
   "id": "b90b601a-5f54-4ee5-85d0-81b8f1348c5e",
   "metadata": {},
   "outputs": [],
   "source": [
    "X_test = preprocess(df, dv)"
   ]
  },
  {
   "cell_type": "code",
   "execution_count": 64,
   "id": "576bdc11-acf9-4a39-bb93-7f834ecd4691",
   "metadata": {},
   "outputs": [],
   "source": [
    "target = \"duration\"\n",
    "y_test = df[target].values"
   ]
  },
  {
   "cell_type": "code",
   "execution_count": 66,
   "id": "8252cc29-7816-49db-8713-21cf21043d15",
   "metadata": {},
   "outputs": [
    {
     "data": {
      "text/plain": [
       "'nyc-taxi-regressor'"
      ]
     },
     "execution_count": 66,
     "metadata": {},
     "output_type": "execute_result"
    }
   ],
   "source": [
    "model_name"
   ]
  },
  {
   "cell_type": "code",
   "execution_count": 86,
   "id": "15117281-d7d0-42d1-8662-32e3ad142ca7",
   "metadata": {},
   "outputs": [],
   "source": [
    "version=1"
   ]
  },
  {
   "cell_type": "code",
   "execution_count": 84,
   "id": "951ea403-43fc-4a3f-a175-5a4e5072b029",
   "metadata": {},
   "outputs": [],
   "source": [
    "# FAQ/Slack: MlflowException: Not a proper models:/ URI: models:/nyc-taxi-regressor. Models URIs must be of the form 'models:/model_name/suffix' or 'models:/model_name@alias' where suffix is a model version, stage, or the string 'latest' and where alias is a registered model alias. Only one of suffix or alias can be defined at a time."
   ]
  },
  {
   "cell_type": "code",
   "execution_count": 83,
   "id": "6ae0d3f1-24aa-4090-bb3c-339ed8d7911e",
   "metadata": {},
   "outputs": [
    {
     "name": "stderr",
     "output_type": "stream",
     "text": [
      "/home/codespace/anaconda3/envs/exp-tracking-env/lib/python3.9/site-packages/xgboost/core.py:160: UserWarning: [07:29:50] WARNING: /workspace/src/objective/regression_obj.cu:209: reg:linear is now deprecated in favor of reg:squarederror.\n",
      "  warnings.warn(smsg, UserWarning)\n"
     ]
    },
    {
     "name": "stdout",
     "output_type": "stream",
     "text": [
      "CPU times: user 30.6 s, sys: 37 ms, total: 30.6 s\n",
      "Wall time: 16.9 s\n"
     ]
    },
    {
     "name": "stderr",
     "output_type": "stream",
     "text": [
      "/home/codespace/anaconda3/envs/exp-tracking-env/lib/python3.9/site-packages/sklearn/metrics/_regression.py:483: FutureWarning: 'squared' is deprecated in version 1.4 and will be removed in 1.6. To calculate the root mean squared error, use the function'root_mean_squared_error'.\n",
      "  warnings.warn(\n"
     ]
    },
    {
     "data": {
      "text/plain": [
       "{'rmse': 6.258292703800276}"
      ]
     },
     "execution_count": 83,
     "metadata": {},
     "output_type": "execute_result"
    }
   ],
   "source": [
    "%time test_model(model_name, version, X_test, y_test)"
   ]
  },
  {
   "cell_type": "code",
   "execution_count": null,
   "id": "e191dc8e-43bc-4613-9ebc-c211ea6d2e1c",
   "metadata": {},
   "outputs": [],
   "source": []
  }
 ],
 "metadata": {
  "kernelspec": {
   "display_name": "Python 3 (ipykernel)",
   "language": "python",
   "name": "python3"
  },
  "language_info": {
   "codemirror_mode": {
    "name": "ipython",
    "version": 3
   },
   "file_extension": ".py",
   "mimetype": "text/x-python",
   "name": "python",
   "nbconvert_exporter": "python",
   "pygments_lexer": "ipython3",
   "version": "3.9.19"
  }
 },
 "nbformat": 4,
 "nbformat_minor": 5
}
